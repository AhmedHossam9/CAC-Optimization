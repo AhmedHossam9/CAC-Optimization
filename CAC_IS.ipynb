{
  "nbformat": 4,
  "nbformat_minor": 0,
  "metadata": {
    "colab": {
      "provenance": []
    },
    "kernelspec": {
      "name": "python3",
      "display_name": "Python 3"
    },
    "language_info": {
      "name": "python"
    }
  },
  "cells": [
    {
      "cell_type": "code",
      "execution_count": null,
      "metadata": {
        "id": "PyD0yELTOlBG",
        "colab": {
          "base_uri": "https://localhost:8080/"
        },
        "outputId": "16b2cf16-74dc-4385-85b7-875c1024fb7f"
      },
      "outputs": [
        {
          "output_type": "stream",
          "name": "stdout",
          "text": [
            "Optimum Block Size: (187, 1591)\n",
            "Compression Ratio: 0.0006364312372941227\n",
            "Relative Data Redundancy: -1570.26165625\n"
          ]
        }
      ],
      "source": [
        "import cv2\n",
        "import numpy as np\n",
        "import matplotlib.pyplot as plt\n",
        "\n",
        "def calculate_cr(original_size, compressed_size):\n",
        "    return original_size / compressed_size\n",
        "\n",
        "def calculate_rd(original_size, compressed_size):\n",
        "    return 1 - (compressed_size / original_size)\n",
        "\n",
        "def optimize_cac(image_path):\n",
        "    # Read the binary image\n",
        "    image = cv2.imread(image_path, 0)\n",
        "\n",
        "    # Preprocess the image if required\n",
        "\n",
        "    # Image segmentation using a simple fixed block size\n",
        "    block_sizes = [(2, 2), (4, 4), (8, 8), (16, 16), (32, 32)]\n",
        "    cr_values = []\n",
        "    rd_values = []\n",
        "\n",
        "    for block_size in block_sizes:\n",
        "        rows, cols = image.shape\n",
        "        p, q = block_size\n",
        "        cr_sum = 0\n",
        "        rd_sum = 0\n",
        "\n",
        "        # Iterate over blocks\n",
        "        for i in range(0, rows, p):\n",
        "            for j in range(0, cols, q):\n",
        "                block = image[i:i+p, j:j+q]\n",
        "\n",
        "                # Calculate block size in bits\n",
        "                original_size = block.size\n",
        "                compressed_size = len(np.unique(block))\n",
        "\n",
        "                # Calculate CR and RD\n",
        "                cr = calculate_cr(original_size, compressed_size)\n",
        "                rd = calculate_rd(original_size, compressed_size)\n",
        "\n",
        "                cr_sum += cr\n",
        "                rd_sum += rd\n",
        "\n",
        "        # Average CR and RD for the current block size\n",
        "        avg_cr = cr_sum / (rows * cols / (p * q))\n",
        "        avg_rd = rd_sum / (rows * cols / (p * q))\n",
        "\n",
        "        # Append CR and RD values for visualization\n",
        "        cr_values.append(avg_cr)\n",
        "        rd_values.append(avg_rd)\n",
        "\n",
        "    # Plotting the results\n",
        "    block_sizes_str = [f\"{p}x{q}\" for p, q in block_sizes]\n",
        "    plt.figure(figsize=(10, 5))\n",
        "    plt.subplot(1, 2, 1)\n",
        "    plt.plot(block_sizes_str, cr_values, 'bo-')\n",
        "    plt.xlabel('Block Size')\n",
        "    plt.ylabel('Compression Ratio (CR)')\n",
        "    plt.title('Compression Ratio vs. Block Size')\n",
        "\n",
        "    plt.subplot(1, 2, 2)\n",
        "    plt.plot(block_sizes_str, rd_values, 'ro-')\n",
        "    plt.xlabel('Block Size')\n",
        "    plt.ylabel('Relative Data Redundancy (RD)')\n",
        "    plt.title('Relative Data Redundancy vs. Block Size')\n",
        "\n",
        "    plt.tight_layout()\n",
        "    plt.show()\n",
        "\n",
        "    # Find the best block size\n",
        "    best_index = np.argmax(cr_values)\n",
        "    best_block_size = block_sizes[best_index]\n",
        "    best_cr = cr_values[best_index]\n",
        "    best_rd = rd_values[best_index]\n",
        "\n",
        "    # Output the results\n",
        "    print(\"Optimized Block Size: {} x {}\".format(*best_block_size))\n",
        "    print(\"Compression Ratio (CR): {:.2f}\".format(best_cr))\n",
        "    print(\"Relative Data Redundancy (RD): {:.2f}\".format(best_rd))\n",
        "\n",
        "# The path to the input image\n",
        "image_path = '/content/gdrive/My Drive/image.jpeg'\n",
        "optimize_cac(image_path)\n"
      ]
    }
  ]
}